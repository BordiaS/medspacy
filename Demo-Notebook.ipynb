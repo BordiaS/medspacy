{
 "cells": [
  {
   "cell_type": "markdown",
   "metadata": {},
   "source": [
    "# I. Import libraries\n",
    "Currently, all of the medspacy subpackages are stored in separate packages/repos. We eventually want to get to havin them all as part of the `medspacy` namespace.\n",
    "\n",
    "Some packages still need to be added to pip, which is a prerequisite for medspacy to be available as one clean install. For now, any packages not available on pip can be cloned from GitHub and installed manually (`python setup.py install`):\n",
    "\n",
    "```bash\n",
    "pip install PyRuSH\n",
    "pip install cycontext\n",
    "pip install clinical_sectionizer\n",
    "\n",
    "git clone https://github.com/medspacy/nlp_preprocessor.git\n",
    "git clone https://github.com/medspacy/target_matcher.git\n",
    "git clone https://github.com/medspacy/nlp_postprocessor.git\n",
    "```"
   ]
  },
  {
   "cell_type": "code",
   "execution_count": 1,
   "metadata": {},
   "outputs": [],
   "source": [
    "from cycontext import ConTextComponent\n",
    "from cycontext.viz import visualize_ent"
   ]
  },
  {
   "cell_type": "code",
   "execution_count": 2,
   "metadata": {},
   "outputs": [],
   "source": [
    "from clinical_sectionizer import Sectionizer"
   ]
  },
  {
   "cell_type": "code",
   "execution_count": 3,
   "metadata": {},
   "outputs": [],
   "source": [
    "from PyRuSH import PyRuSHSentencizer"
   ]
  },
  {
   "cell_type": "code",
   "execution_count": 4,
   "metadata": {},
   "outputs": [],
   "source": [
    "from nlp_preprocessor import Preprocessor, PreprocessingRule"
   ]
  },
  {
   "cell_type": "code",
   "execution_count": 5,
   "metadata": {},
   "outputs": [],
   "source": [
    "from target_matcher import TargetMatcher, TargetRule"
   ]
  },
  {
   "cell_type": "code",
   "execution_count": 6,
   "metadata": {},
   "outputs": [],
   "source": [
    "from nlp_postprocessor import Postprocessor, PostprocessingRule, PostprocessingPattern\n",
    "from nlp_postprocessor import postprocessing_functions"
   ]
  },
  {
   "cell_type": "code",
   "execution_count": 7,
   "metadata": {},
   "outputs": [],
   "source": [
    "import spacy"
   ]
  },
  {
   "cell_type": "markdown",
   "metadata": {},
   "source": [
    "# II. Build the pipeline"
   ]
  },
  {
   "cell_type": "code",
   "execution_count": 8,
   "metadata": {},
   "outputs": [],
   "source": [
    "nlp = spacy.blank(\"en\")"
   ]
  },
  {
   "cell_type": "markdown",
   "metadata": {},
   "source": [
    "### Preprocessor"
   ]
  },
  {
   "cell_type": "code",
   "execution_count": 9,
   "metadata": {},
   "outputs": [],
   "source": [
    "preprocessor = Preprocessor(nlp.tokenizer)\n",
    "nlp.tokenizer = preprocessor"
   ]
  },
  {
   "cell_type": "markdown",
   "metadata": {},
   "source": [
    "### PyRuSH"
   ]
  },
  {
   "cell_type": "code",
   "execution_count": 10,
   "metadata": {},
   "outputs": [],
   "source": [
    "pyrush = PyRuSHSentencizer(\"./resources/rush_rules.tsv\")\n",
    "nlp.add_pipe(pyrush)"
   ]
  },
  {
   "cell_type": "markdown",
   "metadata": {},
   "source": [
    "### TargetMatcher"
   ]
  },
  {
   "cell_type": "code",
   "execution_count": 11,
   "metadata": {},
   "outputs": [],
   "source": [
    "target_matcher = TargetMatcher(nlp)"
   ]
  },
  {
   "cell_type": "code",
   "execution_count": 12,
   "metadata": {},
   "outputs": [],
   "source": [
    "nlp.add_pipe(target_matcher)"
   ]
  },
  {
   "cell_type": "markdown",
   "metadata": {},
   "source": [
    "### Sectionizer"
   ]
  },
  {
   "cell_type": "code",
   "execution_count": 13,
   "metadata": {},
   "outputs": [],
   "source": [
    "sectionizer = Sectionizer(nlp)"
   ]
  },
  {
   "cell_type": "code",
   "execution_count": 14,
   "metadata": {},
   "outputs": [],
   "source": [
    "nlp.add_pipe(sectionizer)"
   ]
  },
  {
   "cell_type": "markdown",
   "metadata": {},
   "source": [
    "### ConText"
   ]
  },
  {
   "cell_type": "code",
   "execution_count": 15,
   "metadata": {},
   "outputs": [],
   "source": [
    "context = ConTextComponent(nlp)"
   ]
  },
  {
   "cell_type": "code",
   "execution_count": 16,
   "metadata": {},
   "outputs": [],
   "source": [
    "nlp.add_pipe(context)"
   ]
  },
  {
   "cell_type": "markdown",
   "metadata": {},
   "source": [
    "### Postprocessor"
   ]
  },
  {
   "cell_type": "code",
   "execution_count": 17,
   "metadata": {},
   "outputs": [],
   "source": [
    "postprocessor = Postprocessor(debug=True)\n",
    "nlp.add_pipe(postprocessor)"
   ]
  },
  {
   "cell_type": "code",
   "execution_count": 18,
   "metadata": {},
   "outputs": [
    {
     "data": {
      "text/plain": [
       "['sentencizer', 'target_matcher', 'sectionizer', 'context', 'postprocessor']"
      ]
     },
     "execution_count": 18,
     "metadata": {},
     "output_type": "execute_result"
    }
   ],
   "source": [
    "nlp.pipe_names"
   ]
  },
  {
   "cell_type": "markdown",
   "metadata": {},
   "source": [
    "# II. Read in text\n",
    "This is an excerpt from a MIMIC discharge summary."
   ]
  },
  {
   "cell_type": "code",
   "execution_count": 19,
   "metadata": {},
   "outputs": [],
   "source": [
    "with open(\"./discharge_summary.txt\") as f:\n",
    "    full_text = f.read()"
   ]
  },
  {
   "cell_type": "code",
   "execution_count": 20,
   "metadata": {},
   "outputs": [
    {
     "name": "stdout",
     "output_type": "stream",
     "text": [
      "Admission Date:  [**2573-5-30**]              Discharge Date:   [**2573-7-1**]\n",
      "\n",
      "Date of Birth:  [**2498-8-19**]             Sex:   F\n",
      "\n",
      "Service: SURGERY\n",
      "\n",
      "Allergies:\n",
      "Hydrochlorothiazide\n",
      "\n",
      "Attending:[**First Name3 (LF) 1893**]\n",
      "Chief Complaint:\n",
      "Abdominal pain\n",
      "\n",
      "Major Surgical or Invasive Procedure:\n",
      "PICC line [**6-25**]\n",
      "ERCP w/ sphincterotomy [**5-31**]\n",
      "\n",
      "\n",
      "History of Present Illness:\n",
      "74y female with hypertension, old MI and a recent stroke affecting her\n",
      "speech, who presents with 2 days of abdominal pain.  She had multiple bouts of\n",
      "nausea and vomiting, with chills and decreased flatus.\n",
      "\n",
      "Past Medical History:\n",
      "1. Colon cancer dx'd in [**2554**], tx'd with hemicolectomy, XRT,\n",
      "chemo. Last colonoscopy showed: Last CEA was in the 8 range\n",
      "(down from 9)\n",
      "2. Lymphedema from XRT, takes a diuretic\n",
      "3. Cataracts\n",
      "4. Hypertension\n",
      "5. heart murmur - TTE in [**2567**] showed LA mod dilated, LV mildly\n",
      "hypertrophied, aortic sclerosis, mild AI, mild MR.\n",
      "\n",
      "Social History:\n",
      "Married, former secretary, waitress. + tobacco \n"
     ]
    }
   ],
   "source": [
    "print(full_text[:1000])"
   ]
  },
  {
   "cell_type": "markdown",
   "metadata": {},
   "source": [
    "# III. Add additional rules to various components\n",
    "- **Preprocessor**: Clean up the text using the preprocessor\n",
    "    - Lower-case (mainly for demo purposes)\n",
    "    - Replace MIMIC-style brackets for dates and years with random dates\n",
    "    - Remove all other MIMIC-style brackets\n",
    "- **TargetMatcher**: Extended rule-based matching\n",
    "    - Can use literal expressions or token patterns\n",
    "    - Can pass in additional attributes to set for a matched attribute\n",
    "    - Can also define callbacks\n",
    "- **Sectionizer**: Add \"Chief Complaint\"\n",
    "- **Postprocessor**: Modify or remove entities based on custom logic\n",
    "    - As an example, we'll remove all entities  from **patient_instructions** sections"
   ]
  },
  {
   "cell_type": "markdown",
   "metadata": {},
   "source": [
    "### Preprocessing"
   ]
  },
  {
   "cell_type": "code",
   "execution_count": 21,
   "metadata": {},
   "outputs": [],
   "source": [
    "import re"
   ]
  },
  {
   "cell_type": "code",
   "execution_count": 22,
   "metadata": {},
   "outputs": [],
   "source": [
    "import random\n",
    "import time\n",
    "\n",
    "def replace_with_random_date(match):\n",
    "    return random_date(\"1/1/2000\", \"1/1/2020\", random.random())\n",
    "\n",
    "def replace_with_random_year(match):\n",
    "    return str(random.randint(2000, 2020))"
   ]
  },
  {
   "cell_type": "code",
   "execution_count": 23,
   "metadata": {},
   "outputs": [
    {
     "data": {
      "text/plain": [
       "'01/24/2008'"
      ]
     },
     "execution_count": 23,
     "metadata": {},
     "output_type": "execute_result"
    }
   ],
   "source": [
    "def str_time_prop(start, end, prop, format):\n",
    "    \"\"\"Get a time at a proportion of a range of two formatted times.\n",
    "\n",
    "    start and end should be strings specifying times formated in the\n",
    "    given format (strftime-style), giving an interval [start, end].\n",
    "    prop specifies how a proportion of the interval to be taken after\n",
    "    start.  The returned time will be in the specified format.\n",
    "    \"\"\"\n",
    "\n",
    "    stime = time.mktime(time.strptime(start, format))\n",
    "    etime = time.mktime(time.strptime(end, format))\n",
    "\n",
    "    ptime = stime + prop * (etime - stime)\n",
    "\n",
    "    return time.strftime(format, time.localtime(ptime))\n",
    "\n",
    "\n",
    "def random_date(start, end, prop, format='%m/%d/%Y'):\n",
    "    return str_time_prop(start, end, prop, format)\n",
    "\n",
    "random_date(\"1/1/2008\", \"1/1/2009\", random.random())"
   ]
  },
  {
   "cell_type": "markdown",
   "metadata": {},
   "source": [
    "Rules for preprocessing are any callable which take the text as input and return text as output. The `PreprocessingRule` class allows for a convenient API, but you can also pass in other objects or functions."
   ]
  },
  {
   "cell_type": "code",
   "execution_count": 24,
   "metadata": {},
   "outputs": [],
   "source": [
    "preprocess_rules = [\n",
    "    lambda x: x.lower(),\n",
    "    \n",
    "    PreprocessingRule(\n",
    "        re.compile(\"\\[\\*\\*[\\d]{1,4}-[\\d]{1,2}(-[\\d]{1,2})?\\*\\*\\]\"),\n",
    "        repl=replace_with_random_date,\n",
    "        desc=\"Replace MIMIC date brackets with a random date.\"\n",
    "    ),\n",
    "    \n",
    "    PreprocessingRule(\n",
    "        re.compile(\"\\[\\*\\*[\\d]{4}\\*\\*\\]\"),\n",
    "        repl=replace_with_random_year,\n",
    "        desc=\"Replace MIMIC year brackets with a random year.\"\n",
    "    ),\n",
    "    \n",
    "    PreprocessingRule(\n",
    "        re.compile(\"\\[\\*\\*[^\\]]+\\]\"), \n",
    "        desc=\"Remove all other bracketed placeholder text from MIMIC\"\n",
    "    )\n",
    "    \n",
    "]"
   ]
  },
  {
   "cell_type": "code",
   "execution_count": 25,
   "metadata": {},
   "outputs": [],
   "source": [
    "preprocessor.add(preprocess_rules)"
   ]
  },
  {
   "cell_type": "code",
   "execution_count": 26,
   "metadata": {},
   "outputs": [
    {
     "data": {
      "text/plain": [
       "admission date:  03/08/2010              discharge date:   09/02/2013\n",
       " \n",
       "date of birth:  01/22/2001\n",
       "signed electronically by: dr. "
      ]
     },
     "execution_count": 26,
     "metadata": {},
     "output_type": "execute_result"
    }
   ],
   "source": [
    "nlp(\"\"\"Admission Date:  [**2573-5-30**]              Discharge Date:   [**2573-7-1**]\n",
    " \n",
    "Date of Birth:  [**2498-8-19**]\n",
    "Signed electronically by: DR. [**First Name8 (NamePattern2) **]\n",
    "\"\"\")"
   ]
  },
  {
   "cell_type": "markdown",
   "metadata": {},
   "source": [
    "### TargetMatcher"
   ]
  },
  {
   "cell_type": "code",
   "execution_count": 27,
   "metadata": {},
   "outputs": [],
   "source": [
    "target_rules = [\n",
    "    TargetRule(\"abdominal pain\", \"PROBLEM\"),\n",
    "    TargetRule(\"hydrochlorothiazide\", \"TREATMENT\"),\n",
    "    TargetRule(\"cancer\", \"PROBLEM\"),\n",
    "    TargetRule(\"hypertension\", \"PROBLEM\"),\n",
    "    TargetRule(\"hypertension\", \"PROBLEM\", pattern=[{\"LOWER\": \"htn\"}]),\n",
    "    TargetRule(\"Lymphedema\", \"PROBLEM\"),\n",
    "    TargetRule(\"diuretic\", \"TREATMENT\"),\n",
    "    TargetRule(\"cataracts\", \"PROBLEM\"),\n",
    "    TargetRule(\"ulcer\", \"PROBLEM\"),\n",
    "    TargetRule(\"Myocardial Infarction\", \"PROBLEM\"),\n",
    "    # Give \"Old MI\" an explicit attribute of is_historical\n",
    "    # But it still has the literal of \"Myocardial Infarction\"\n",
    "    TargetRule(\"Myocardial Infarction\", \"PROBLEM\", \n",
    "              pattern=[{\"LOWER\": \"old\"}, {\"LOWER\": \"mi\"}],\n",
    "               attributes={\"is_historical\": True}\n",
    "              ),\n",
    "    TargetRule(\"Atrial Fibrillation\", \"PROBLEM\", ),\n",
    "]\n",
    "target_matcher.add(target_rules)"
   ]
  },
  {
   "cell_type": "code",
   "execution_count": 28,
   "metadata": {},
   "outputs": [
    {
     "name": "stdout",
     "output_type": "stream",
     "text": [
      "old mi\n",
      "\n",
      "htn\n",
      "\n"
     ]
    }
   ],
   "source": [
    "doc = nlp(\"Patient with htn and old mi.\")"
   ]
  },
  {
   "cell_type": "code",
   "execution_count": 29,
   "metadata": {},
   "outputs": [
    {
     "data": {
      "text/html": [
       "<div class=\"entities\" style=\"line-height: 2.5; direction: ltr\">patient with \n",
       "<mark class=\"entity\" style=\"background: #1f77b4; padding: 0.45em 0.6em; margin: 0 0.25em; line-height: 1; border-radius: 0.35em;\">\n",
       "    htn\n",
       "    <span style=\"font-size: 0.8em; font-weight: bold; line-height: 1; border-radius: 0.35em; text-transform: uppercase; vertical-align: middle; margin-left: 0.5rem\">PROBLEM</span>\n",
       "</mark>\n",
       " and \n",
       "<mark class=\"entity\" style=\"background: #1f77b4; padding: 0.45em 0.6em; margin: 0 0.25em; line-height: 1; border-radius: 0.35em;\">\n",
       "    old mi\n",
       "    <span style=\"font-size: 0.8em; font-weight: bold; line-height: 1; border-radius: 0.35em; text-transform: uppercase; vertical-align: middle; margin-left: 0.5rem\">PROBLEM</span>\n",
       "</mark>\n",
       ".</div>"
      ],
      "text/plain": [
       "<IPython.core.display.HTML object>"
      ]
     },
     "metadata": {},
     "output_type": "display_data"
    }
   ],
   "source": [
    "visualize_ent(doc)"
   ]
  },
  {
   "cell_type": "code",
   "execution_count": 30,
   "metadata": {},
   "outputs": [
    {
     "name": "stdout",
     "output_type": "stream",
     "text": [
      "Span\t\tliteral\t\tis_historical\n",
      "htn\t\thypertension\t\tFalse\n",
      "old mi\t\tMyocardial Infarction\t\tTrue\n"
     ]
    }
   ],
   "source": [
    "print(\"Span\", \"literal\", \"is_historical\", sep=\"\\t\\t\")\n",
    "for ent in doc.ents:\n",
    "    print(ent, ent._.target_rule.literal, ent._.is_historical, sep=\"\\t\\t\")"
   ]
  },
  {
   "cell_type": "markdown",
   "metadata": {},
   "source": [
    "### Sectionizer"
   ]
  },
  {
   "cell_type": "code",
   "execution_count": 31,
   "metadata": {},
   "outputs": [],
   "source": [
    "section_rules = [\n",
    "    {\"section_title\": \"chief_complaint\", \"pattern\": \"Chief Complaint:\"}\n",
    "]"
   ]
  },
  {
   "cell_type": "code",
   "execution_count": 32,
   "metadata": {},
   "outputs": [],
   "source": [
    "sectionizer.add(section_rules)"
   ]
  },
  {
   "cell_type": "markdown",
   "metadata": {},
   "source": [
    "### Postprocessor"
   ]
  },
  {
   "cell_type": "code",
   "execution_count": 33,
   "metadata": {},
   "outputs": [],
   "source": [
    "text = \"Diagnoses: Atrial Fibrillation. Patient Instructions: Come back if you experience abdominal pain.\""
   ]
  },
  {
   "cell_type": "code",
   "execution_count": 34,
   "metadata": {},
   "outputs": [
    {
     "name": "stdout",
     "output_type": "stream",
     "text": [
      "abdominal pain\n",
      "\n",
      "atrial fibrillation\n",
      "\n"
     ]
    }
   ],
   "source": [
    "doc = nlp(text)"
   ]
  },
  {
   "cell_type": "code",
   "execution_count": 35,
   "metadata": {},
   "outputs": [
    {
     "data": {
      "text/html": [
       "<div class=\"entities\" style=\"line-height: 2.5; direction: ltr\">\n",
       "<mark class=\"entity\" style=\"background: #dee0e3; padding: 0.45em 0.6em; margin: 0 0.25em; line-height: 1; border-radius: 0.35em;\">\n",
       "    diagnoses:\n",
       "    <span style=\"font-size: 0.8em; font-weight: bold; line-height: 1; border-radius: 0.35em; text-transform: uppercase; vertical-align: middle; margin-left: 0.5rem\"><< OBSERVATION_AND_PLAN >></span>\n",
       "</mark>\n",
       " \n",
       "<mark class=\"entity\" style=\"background: #1f77b4; padding: 0.45em 0.6em; margin: 0 0.25em; line-height: 1; border-radius: 0.35em;\">\n",
       "    atrial fibrillation\n",
       "    <span style=\"font-size: 0.8em; font-weight: bold; line-height: 1; border-radius: 0.35em; text-transform: uppercase; vertical-align: middle; margin-left: 0.5rem\">PROBLEM</span>\n",
       "</mark>\n",
       ". patient \n",
       "<mark class=\"entity\" style=\"background: #dee0e3; padding: 0.45em 0.6em; margin: 0 0.25em; line-height: 1; border-radius: 0.35em;\">\n",
       "    instructions:\n",
       "    <span style=\"font-size: 0.8em; font-weight: bold; line-height: 1; border-radius: 0.35em; text-transform: uppercase; vertical-align: middle; margin-left: 0.5rem\"><< PATIENT_INSTRUCTIONS >></span>\n",
       "</mark>\n",
       " come back \n",
       "<mark class=\"entity\" style=\"background: #ff7f0e; padding: 0.45em 0.6em; margin: 0 0.25em; line-height: 1; border-radius: 0.35em;\">\n",
       "    if\n",
       "    <span style=\"font-size: 0.8em; font-weight: bold; line-height: 1; border-radius: 0.35em; text-transform: uppercase; vertical-align: middle; margin-left: 0.5rem\">HYPOTHETICAL</span>\n",
       "</mark>\n",
       " you experience \n",
       "<mark class=\"entity\" style=\"background: #1f77b4; padding: 0.45em 0.6em; margin: 0 0.25em; line-height: 1; border-radius: 0.35em;\">\n",
       "    abdominal pain\n",
       "    <span style=\"font-size: 0.8em; font-weight: bold; line-height: 1; border-radius: 0.35em; text-transform: uppercase; vertical-align: middle; margin-left: 0.5rem\">PROBLEM</span>\n",
       "</mark>\n",
       ".</div>"
      ],
      "text/plain": [
       "<IPython.core.display.HTML object>"
      ]
     },
     "metadata": {},
     "output_type": "display_data"
    }
   ],
   "source": [
    "visualize_ent(doc)"
   ]
  },
  {
   "cell_type": "code",
   "execution_count": 36,
   "metadata": {},
   "outputs": [
    {
     "name": "stdout",
     "output_type": "stream",
     "text": [
      "atrial fibrillation observation_and_plan\n",
      "abdominal pain patient_instructions\n"
     ]
    }
   ],
   "source": [
    "for ent in doc.ents:\n",
    "    print(ent, ent._.section_title)"
   ]
  },
  {
   "cell_type": "code",
   "execution_count": 37,
   "metadata": {},
   "outputs": [],
   "source": [
    "postprocess_rules = [\n",
    "    PostprocessingRule(\n",
    "        patterns=[\n",
    "            PostprocessingPattern(condition=lambda ent: ent._.section_title.upper() == \"PATIENT_INSTRUCTIONS\"),\n",
    "        ],\n",
    "        action=postprocessing_functions.remove_ent,\n",
    "        description=\"Remove any entities from the instructions section.\"\n",
    "    )\n",
    "]"
   ]
  },
  {
   "cell_type": "code",
   "execution_count": 38,
   "metadata": {},
   "outputs": [],
   "source": [
    "postprocessor.add(postprocess_rules)"
   ]
  },
  {
   "cell_type": "code",
   "execution_count": 39,
   "metadata": {},
   "outputs": [],
   "source": [
    "text = \"Diagnoses: Atrial Fibrillation. Patient Instructions: Come back if you experience abdominal pain.\""
   ]
  },
  {
   "cell_type": "code",
   "execution_count": 40,
   "metadata": {},
   "outputs": [
    {
     "name": "stdout",
     "output_type": "stream",
     "text": [
      "abdominal pain\n",
      "Passed: PostprocessingRule: None - Remove any entities from the instructions section. on ent: abdominal pain diagnoses: atrial fibrillation. patient instructions: come back if you experience abdominal pain.\n",
      "\n",
      "atrial fibrillation\n",
      "\n"
     ]
    }
   ],
   "source": [
    "doc = nlp(text)"
   ]
  },
  {
   "cell_type": "code",
   "execution_count": 41,
   "metadata": {},
   "outputs": [
    {
     "name": "stdout",
     "output_type": "stream",
     "text": [
      "atrial fibrillation observation_and_plan\n"
     ]
    }
   ],
   "source": [
    "for ent in doc.ents:\n",
    "    print(ent, ent._.section_title)"
   ]
  },
  {
   "cell_type": "markdown",
   "metadata": {},
   "source": [
    "# IV. Process the entire document with the complete pipelineoutput"
   ]
  },
  {
   "cell_type": "code",
   "execution_count": 42,
   "metadata": {},
   "outputs": [
    {
     "name": "stdout",
     "output_type": "stream",
     "text": [
      "abdominal pain\n",
      "Passed: PostprocessingRule: None - Remove any entities from the instructions section. on ent: abdominal pain patient may shower. please call your surgeon or return to the\n",
      "emergency room if  experience fever >101.5, nausea, vomiting,\n",
      "abdominal pain, shortness of breath, abdominal pain or any\n",
      "significant  change in your medical condition. a\n",
      "\n",
      "completed by:   md  05/21/2016 @ 1404\n",
      "signed electronically by: dr.  \n",
      " \n",
      "\n",
      "abdominal pain\n",
      "Passed: PostprocessingRule: None - Remove any entities from the instructions section. on ent: abdominal pain patient may shower. please call your surgeon or return to the\n",
      "emergency room if  experience fever >101.5, nausea, vomiting,\n",
      "abdominal pain, shortness of breath, abdominal pain or any\n",
      "significant  change in your medical condition. a\n",
      "\n",
      "completed by:   md  05/21/2016 @ 1404\n",
      "signed electronically by: dr.  \n",
      " \n",
      "\n",
      "htn\n",
      "\n",
      "atrial fibrillation\n",
      "\n",
      "hypertension\n",
      "\n",
      "cataracts\n",
      "\n",
      "diuretic\n",
      "\n",
      "lymphedema\n",
      "\n",
      "cancer\n",
      "\n",
      "abdominal pain\n",
      "\n",
      "old mi\n",
      "\n",
      "hypertension\n",
      "\n",
      "abdominal pain\n",
      "\n",
      "hydrochlorothiazide\n",
      "\n"
     ]
    }
   ],
   "source": [
    "doc = nlp(full_text)"
   ]
  },
  {
   "cell_type": "code",
   "execution_count": 43,
   "metadata": {},
   "outputs": [
    {
     "data": {
      "text/html": [
       "<div class=\"entities\" style=\"line-height: 2.5; direction: ltr\">admission date:  05/16/2000              discharge date:   01/25/2008</br></br>date of birth:  11/26/2017             sex:   f</br></br>service: surgery</br></br>\n",
       "<mark class=\"entity\" style=\"background: #dee0e3; padding: 0.45em 0.6em; margin: 0 0.25em; line-height: 1; border-radius: 0.35em;\">\n",
       "    allergies:\n",
       "    <span style=\"font-size: 0.8em; font-weight: bold; line-height: 1; border-radius: 0.35em; text-transform: uppercase; vertical-align: middle; margin-left: 0.5rem\"><< ALLERGY >></span>\n",
       "</mark>\n",
       "</br>\n",
       "<mark class=\"entity\" style=\"background: #1f77b4; padding: 0.45em 0.6em; margin: 0 0.25em; line-height: 1; border-radius: 0.35em;\">\n",
       "    hydrochlorothiazide\n",
       "    <span style=\"font-size: 0.8em; font-weight: bold; line-height: 1; border-radius: 0.35em; text-transform: uppercase; vertical-align: middle; margin-left: 0.5rem\">TREATMENT</span>\n",
       "</mark>\n",
       "</br></br>attending:</br>\n",
       "<mark class=\"entity\" style=\"background: #dee0e3; padding: 0.45em 0.6em; margin: 0 0.25em; line-height: 1; border-radius: 0.35em;\">\n",
       "    chief complaint:\n",
       "    <span style=\"font-size: 0.8em; font-weight: bold; line-height: 1; border-radius: 0.35em; text-transform: uppercase; vertical-align: middle; margin-left: 0.5rem\"><< CHIEF_COMPLAINT >></span>\n",
       "</mark>\n",
       "</br>\n",
       "<mark class=\"entity\" style=\"background: #ff7f0e; padding: 0.45em 0.6em; margin: 0 0.25em; line-height: 1; border-radius: 0.35em;\">\n",
       "    abdominal pain\n",
       "    <span style=\"font-size: 0.8em; font-weight: bold; line-height: 1; border-radius: 0.35em; text-transform: uppercase; vertical-align: middle; margin-left: 0.5rem\">PROBLEM</span>\n",
       "</mark>\n",
       "</br></br>major surgical or invasive \n",
       "<mark class=\"entity\" style=\"background: #dee0e3; padding: 0.45em 0.6em; margin: 0 0.25em; line-height: 1; border-radius: 0.35em;\">\n",
       "    procedure:\n",
       "    <span style=\"font-size: 0.8em; font-weight: bold; line-height: 1; border-radius: 0.35em; text-transform: uppercase; vertical-align: middle; margin-left: 0.5rem\"><< OTHER >></span>\n",
       "</mark>\n",
       "</br>picc line 08/11/2004</br>ercp w/ sphincterotomy 09/05/2003</br></br></br>\n",
       "<mark class=\"entity\" style=\"background: #dee0e3; padding: 0.45em 0.6em; margin: 0 0.25em; line-height: 1; border-radius: 0.35em;\">\n",
       "    history of present illness:\n",
       "    <span style=\"font-size: 0.8em; font-weight: bold; line-height: 1; border-radius: 0.35em; text-transform: uppercase; vertical-align: middle; margin-left: 0.5rem\"><< PRESENT_ILLNESS >></span>\n",
       "</mark>\n",
       "</br>74y female with \n",
       "<mark class=\"entity\" style=\"background: #ff7f0e; padding: 0.45em 0.6em; margin: 0 0.25em; line-height: 1; border-radius: 0.35em;\">\n",
       "    hypertension\n",
       "    <span style=\"font-size: 0.8em; font-weight: bold; line-height: 1; border-radius: 0.35em; text-transform: uppercase; vertical-align: middle; margin-left: 0.5rem\">PROBLEM</span>\n",
       "</mark>\n",
       ", \n",
       "<mark class=\"entity\" style=\"background: #ff7f0e; padding: 0.45em 0.6em; margin: 0 0.25em; line-height: 1; border-radius: 0.35em;\">\n",
       "    old mi\n",
       "    <span style=\"font-size: 0.8em; font-weight: bold; line-height: 1; border-radius: 0.35em; text-transform: uppercase; vertical-align: middle; margin-left: 0.5rem\">PROBLEM</span>\n",
       "</mark>\n",
       " and a recent stroke affecting her</br>speech, who presents with 2 days of \n",
       "<mark class=\"entity\" style=\"background: #ff7f0e; padding: 0.45em 0.6em; margin: 0 0.25em; line-height: 1; border-radius: 0.35em;\">\n",
       "    abdominal pain\n",
       "    <span style=\"font-size: 0.8em; font-weight: bold; line-height: 1; border-radius: 0.35em; text-transform: uppercase; vertical-align: middle; margin-left: 0.5rem\">PROBLEM</span>\n",
       "</mark>\n",
       ".  she had multiple bouts of</br>nausea and vomiting, with chills and decreased flatus.</br></br>\n",
       "<mark class=\"entity\" style=\"background: #dee0e3; padding: 0.45em 0.6em; margin: 0 0.25em; line-height: 1; border-radius: 0.35em;\">\n",
       "    past medical history:\n",
       "    <span style=\"font-size: 0.8em; font-weight: bold; line-height: 1; border-radius: 0.35em; text-transform: uppercase; vertical-align: middle; margin-left: 0.5rem\"><< PAST_MEDICAL_HISTORY >></span>\n",
       "</mark>\n",
       "</br>1. colon \n",
       "<mark class=\"entity\" style=\"background: #ff7f0e; padding: 0.45em 0.6em; margin: 0 0.25em; line-height: 1; border-radius: 0.35em;\">\n",
       "    cancer\n",
       "    <span style=\"font-size: 0.8em; font-weight: bold; line-height: 1; border-radius: 0.35em; text-transform: uppercase; vertical-align: middle; margin-left: 0.5rem\">PROBLEM</span>\n",
       "</mark>\n",
       " dx'd in 2020, tx'd with hemicolectomy, xrt,</br>chemo. last colonoscopy showed: last cea was in the 8 range</br>(down from 9)</br>2. \n",
       "<mark class=\"entity\" style=\"background: #ff7f0e; padding: 0.45em 0.6em; margin: 0 0.25em; line-height: 1; border-radius: 0.35em;\">\n",
       "    lymphedema\n",
       "    <span style=\"font-size: 0.8em; font-weight: bold; line-height: 1; border-radius: 0.35em; text-transform: uppercase; vertical-align: middle; margin-left: 0.5rem\">PROBLEM</span>\n",
       "</mark>\n",
       " from xrt, takes a \n",
       "<mark class=\"entity\" style=\"background: #1f77b4; padding: 0.45em 0.6em; margin: 0 0.25em; line-height: 1; border-radius: 0.35em;\">\n",
       "    diuretic\n",
       "    <span style=\"font-size: 0.8em; font-weight: bold; line-height: 1; border-radius: 0.35em; text-transform: uppercase; vertical-align: middle; margin-left: 0.5rem\">TREATMENT</span>\n",
       "</mark>\n",
       "</br>3. \n",
       "<mark class=\"entity\" style=\"background: #ff7f0e; padding: 0.45em 0.6em; margin: 0 0.25em; line-height: 1; border-radius: 0.35em;\">\n",
       "    cataracts\n",
       "    <span style=\"font-size: 0.8em; font-weight: bold; line-height: 1; border-radius: 0.35em; text-transform: uppercase; vertical-align: middle; margin-left: 0.5rem\">PROBLEM</span>\n",
       "</mark>\n",
       "</br>4. \n",
       "<mark class=\"entity\" style=\"background: #ff7f0e; padding: 0.45em 0.6em; margin: 0 0.25em; line-height: 1; border-radius: 0.35em;\">\n",
       "    hypertension\n",
       "    <span style=\"font-size: 0.8em; font-weight: bold; line-height: 1; border-radius: 0.35em; text-transform: uppercase; vertical-align: middle; margin-left: 0.5rem\">PROBLEM</span>\n",
       "</mark>\n",
       "</br>5. heart murmur - tte in 2003 showed la mod dilated, lv mildly</br>hypertrophied, aortic sclerosis, mild ai, mild mr.</br></br>\n",
       "<mark class=\"entity\" style=\"background: #dee0e3; padding: 0.45em 0.6em; margin: 0 0.25em; line-height: 1; border-radius: 0.35em;\">\n",
       "    social history:\n",
       "    <span style=\"font-size: 0.8em; font-weight: bold; line-height: 1; border-radius: 0.35em; text-transform: uppercase; vertical-align: middle; margin-left: 0.5rem\"><< SEXUAL_AND_SOCIAL_HISTORY >></span>\n",
       "</mark>\n",
       "</br>married, former secretary, waitress. + tobacco x 40 years at</br>4ppd, quit 30 yrs ago. no alcohol or drug use.</br></br>\n",
       "<mark class=\"entity\" style=\"background: #dee0e3; padding: 0.45em 0.6em; margin: 0 0.25em; line-height: 1; border-radius: 0.35em;\">\n",
       "    family history:\n",
       "    <span style=\"font-size: 0.8em; font-weight: bold; line-height: 1; border-radius: 0.35em; text-transform: uppercase; vertical-align: middle; margin-left: 0.5rem\"><< FAMILY_HISTORY >></span>\n",
       "</mark>\n",
       "</br>mother with stroke at age 82. no early deaths.</br>2 daughters- healthy</br></br>ultrasound 11/05/2000: \n",
       "<mark class=\"entity\" style=\"background: #dee0e3; padding: 0.45em 0.6em; margin: 0 0.25em; line-height: 1; border-radius: 0.35em;\">\n",
       "    impression:\n",
       "    <span style=\"font-size: 0.8em; font-weight: bold; line-height: 1; border-radius: 0.35em; text-transform: uppercase; vertical-align: middle; margin-left: 0.5rem\"><< OBSERVATION_AND_PLAN >></span>\n",
       "</mark>\n",
       " 1. dilated common bile duct with</br>mild intrahepatic biliary ductal dilatation and dilataion of the</br>pancreatic duct. 2. edematous gallbladder wall.</br></br></br>brief hospital course:</br>ms.  was admitted on 12/05/2001. ultrasound at the time of</br>admission demonstrated pancreatic duct dilitation and an</br>edematous gallbladder. she was admitted to the icu. 04/06/2013 she</br>underwent ercp w/ sphincterotomy, an impacted stone was removed.</br>she has had a prolonged icu course. review of hospital course by</br>system includes.</br></br>cardiovascular: the cardiology team was consulted on 06/09/2016 and a</br>tte was obtained showing decreased biventricular systolic</br>dysfunction representing a diffuse process.  on 12/13/2011 a repeat tte</br>followed by a tee was done to rule out endocarditis; no</br>vegatation or abscess was seen. a tee was again performed on</br>12/02/2006 there was no significant change from the prior study. the</br>patient was treated with amiodarone to control her afib.</br></br>pulmonary: patient was intubated on admission and transferred to</br>the icu. patient was initially extubated on hospital day six.</br></br>\n",
       "<mark class=\"entity\" style=\"background: #dee0e3; padding: 0.45em 0.6em; margin: 0 0.25em; line-height: 1; border-radius: 0.35em;\">\n",
       "    medications on admission:\n",
       "    <span style=\"font-size: 0.8em; font-weight: bold; line-height: 1; border-radius: 0.35em; text-transform: uppercase; vertical-align: middle; margin-left: 0.5rem\"><< MEDICATION >></span>\n",
       "</mark>\n",
       "</br>asa 325mg daily</br>buspirone 5mg tid</br></br>\n",
       "<mark class=\"entity\" style=\"background: #dee0e3; padding: 0.45em 0.6em; margin: 0 0.25em; line-height: 1; border-radius: 0.35em;\">\n",
       "    discharge medications:\n",
       "    <span style=\"font-size: 0.8em; font-weight: bold; line-height: 1; border-radius: 0.35em; text-transform: uppercase; vertical-align: middle; margin-left: 0.5rem\"><< MEDICATION >></span>\n",
       "</mark>\n",
       "</br>1. miconazole nitrate 2 % powder sig: one (1) appl topical  bid</br>(2 times a day) as needed.</br>2. heparin sodium (porcine) 5,000 unit/ml solution sig: one (1)</br>injection tid (3 times a day).</br>3. acetaminophen 160 mg/5 ml elixir sig: one (1)  po q4-6h</br>(every 4 to 6 hours) as needed.</br></br>\n",
       "<mark class=\"entity\" style=\"background: #dee0e3; padding: 0.45em 0.6em; margin: 0 0.25em; line-height: 1; border-radius: 0.35em;\">\n",
       "    discharge diagnosis:\n",
       "    <span style=\"font-size: 0.8em; font-weight: bold; line-height: 1; border-radius: 0.35em; text-transform: uppercase; vertical-align: middle; margin-left: 0.5rem\"><< OBSERVATION_AND_PLAN >></span>\n",
       "</mark>\n",
       "</br>\n",
       "<mark class=\"entity\" style=\"background: #ff7f0e; padding: 0.45em 0.6em; margin: 0 0.25em; line-height: 1; border-radius: 0.35em;\">\n",
       "    atrial fibrillation\n",
       "    <span style=\"font-size: 0.8em; font-weight: bold; line-height: 1; border-radius: 0.35em; text-transform: uppercase; vertical-align: middle; margin-left: 0.5rem\">PROBLEM</span>\n",
       "</mark>\n",
       "</br>pancreatitis</br>\n",
       "<mark class=\"entity\" style=\"background: #ff7f0e; padding: 0.45em 0.6em; margin: 0 0.25em; line-height: 1; border-radius: 0.35em;\">\n",
       "    htn\n",
       "    <span style=\"font-size: 0.8em; font-weight: bold; line-height: 1; border-radius: 0.35em; text-transform: uppercase; vertical-align: middle; margin-left: 0.5rem\">PROBLEM</span>\n",
       "</mark>\n",
       "</br>h/o aspiration respiratory distress</br></br></br></br>\n",
       "<mark class=\"entity\" style=\"background: #dee0e3; padding: 0.45em 0.6em; margin: 0 0.25em; line-height: 1; border-radius: 0.35em;\">\n",
       "    discharge instructions:\n",
       "    <span style=\"font-size: 0.8em; font-weight: bold; line-height: 1; border-radius: 0.35em; text-transform: uppercase; vertical-align: middle; margin-left: 0.5rem\"><< PATIENT_INSTRUCTIONS >></span>\n",
       "</mark>\n",
       "</br>patient may shower. please call your surgeon or return to the</br>emergency room \n",
       "<mark class=\"entity\" style=\"background: #2ca02c; padding: 0.45em 0.6em; margin: 0 0.25em; line-height: 1; border-radius: 0.35em;\">\n",
       "    if\n",
       "    <span style=\"font-size: 0.8em; font-weight: bold; line-height: 1; border-radius: 0.35em; text-transform: uppercase; vertical-align: middle; margin-left: 0.5rem\">HYPOTHETICAL</span>\n",
       "</mark>\n",
       "  experience fever &gt;101.5, nausea, vomiting,</br>abdominal pain, shortness of breath, abdominal pain or any</br>significant  change in your medical condition. a</br></br>completed by:   md  05/21/2016 @ 1404</br>\n",
       "<mark class=\"entity\" style=\"background: #dee0e3; padding: 0.45em 0.6em; margin: 0 0.25em; line-height: 1; border-radius: 0.35em;\">\n",
       "    signed electronically by:\n",
       "    <span style=\"font-size: 0.8em; font-weight: bold; line-height: 1; border-radius: 0.35em; text-transform: uppercase; vertical-align: middle; margin-left: 0.5rem\"><< SIGNATURE >></span>\n",
       "</mark>\n",
       " dr.  \n",
       " on: fri 06/04/2008 8:03 am\n",
       "(end of report)</div>"
      ],
      "text/plain": [
       "<IPython.core.display.HTML object>"
      ]
     },
     "metadata": {},
     "output_type": "display_data"
    }
   ],
   "source": [
    "visualize_ent(doc)"
   ]
  },
  {
   "cell_type": "code",
   "execution_count": null,
   "metadata": {},
   "outputs": [],
   "source": []
  }
 ],
 "metadata": {
  "kernelspec": {
   "display_name": "Python 3",
   "language": "python",
   "name": "python3"
  },
  "language_info": {
   "codemirror_mode": {
    "name": "ipython",
    "version": 3
   },
   "file_extension": ".py",
   "mimetype": "text/x-python",
   "name": "python",
   "nbconvert_exporter": "python",
   "pygments_lexer": "ipython3",
   "version": "3.7.7"
  }
 },
 "nbformat": 4,
 "nbformat_minor": 2
}
