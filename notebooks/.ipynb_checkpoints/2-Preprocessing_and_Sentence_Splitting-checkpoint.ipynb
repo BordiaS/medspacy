{
 "cells": [
  {
   "cell_type": "code",
   "execution_count": 7,
   "metadata": {},
   "outputs": [],
   "source": [
    "import spacy\n",
    "import medspacy"
   ]
  },
  {
   "cell_type": "markdown",
   "metadata": {},
   "source": [
    "# Overview\n",
    "In this notebook, we'll look at two steps commonly performed on clinical text:\n",
    "- Preprocessing\n",
    "- Sentence splitting"
   ]
  },
  {
   "cell_type": "code",
   "execution_count": 4,
   "metadata": {},
   "outputs": [],
   "source": [
    "with open(\"./discharge_summary.txt\") as f:\n",
    "    text = f.read()"
   ]
  },
  {
   "cell_type": "code",
   "execution_count": 8,
   "metadata": {},
   "outputs": [],
   "source": [
    "nlp = spacy.blank(\"en\")"
   ]
  },
  {
   "cell_type": "markdown",
   "metadata": {},
   "source": [
    "# Preprocessing\n",
    "In preprocessing, we'll take some steps to clean up the text.\n",
    "- Lower-case\n",
    "- Replace MIMIC-style time brackets with \"2010\" and remove all other MIMIC-style formatting\n",
    "- Replace acronyms such as \"dx'd\" and \"tx'd\" to simplify later processing"
   ]
  },
  {
   "cell_type": "code",
   "execution_count": 11,
   "metadata": {},
   "outputs": [],
   "source": [
    "from medspacy.preprocess import Preprocessor, PreprocessingRule\n",
    "import re"
   ]
  },
  {
   "cell_type": "code",
   "execution_count": 12,
   "metadata": {},
   "outputs": [],
   "source": [
    "preprocessor = Preprocessor(nlp.tokenizer)"
   ]
  },
  {
   "cell_type": "code",
   "execution_count": 14,
   "metadata": {},
   "outputs": [],
   "source": [
    "preprocess_rules = [\n",
    "    lambda x: x.lower(),\n",
    "    \n",
    "    PreprocessingRule(\n",
    "        re.compile(\"\\[\\*\\*[\\d]{1,4}-[\\d]{1,2}(-[\\d]{1,2})?\\*\\*\\]\"),\n",
    "        repl=\"01-01-2010\",\n",
    "        desc=\"Replace MIMIC date brackets with a generic date.\"\n",
    "    ),\n",
    "    \n",
    "    PreprocessingRule(\n",
    "        re.compile(\"\\[\\*\\*[\\d]{4}\\*\\*\\]\"),\n",
    "        repl=\"2010\",\n",
    "        desc=\"Replace MIMIC year brackets with a generic year.\"\n",
    "    ),\n",
    "    \n",
    "    PreprocessingRule(\n",
    "        re.compile(\"dx'd\"), repl=\"Diagnosed\", \n",
    "                  desc=\"Replace abbreviation\"\n",
    "    ),\n",
    "    \n",
    "    PreprocessingRule(\n",
    "        re.compile(\"tx'd\"), repl=\"Treated\", \n",
    "                  desc=\"Replace abbreviation\"\n",
    "    ),\n",
    "    \n",
    "        PreprocessingRule(\n",
    "        re.compile(\"\\[\\*\\*[^\\]]+\\]\"), \n",
    "        desc=\"Remove all other bracketed placeholder text from MIMIC\"\n",
    "    )\n",
    "]"
   ]
  },
  {
   "cell_type": "code",
   "execution_count": 15,
   "metadata": {},
   "outputs": [],
   "source": [
    "preprocessor.add(preprocess_rules)"
   ]
  },
  {
   "cell_type": "code",
   "execution_count": 20,
   "metadata": {},
   "outputs": [],
   "source": [
    "nlp.tokenizer = preprocessor"
   ]
  },
  {
   "cell_type": "code",
   "execution_count": 21,
   "metadata": {},
   "outputs": [],
   "source": [
    "preprocessed_doc = nlp(text)"
   ]
  },
  {
   "cell_type": "code",
   "execution_count": 19,
   "metadata": {},
   "outputs": [
    {
     "name": "stdout",
     "output_type": "stream",
     "text": [
      "Admission Date:  [**2573-5-30**]              Discharge Date:   [**2573-7-1**]\n",
      "\n",
      "Date of Birth:  [**2498-8-19**]             Sex:   F\n",
      "\n",
      "Service: SURGERY\n",
      "\n",
      "Allergies:\n",
      "Hydrochlorothiazide\n",
      "\n",
      "Attending:[**First Name3 (LF) 1893**]\n",
      "Chief Complaint:\n",
      "Abdominal pain\n",
      "\n",
      "Major Surgical or Invasive Procedure:\n",
      "PICC line [**6-25**]\n",
      "ERCP w/ sphincterotomy [**5-31**]\n",
      "\n",
      "\n",
      "History of Present Illness:\n",
      "74y female with hypertension, old MI and a recent stroke affecting her\n",
      "speech, who presents with 2 days of abdominal pain.\n",
      "\n",
      "Past Medical History:\n",
      "1. Colon cancer dx'd in [**2554**], tx'd with hemicolectomy, XRT,\n",
      "chemo. Last colonoscopy showed: Last CEA was in the 8 range\n",
      "(down from 9)\n",
      "2. Lymphedema from XRT, takes a diuretic\n",
      "3. Hypertension\n",
      "\n",
      "Social History:\n",
      "Married, former tobacco use. No alcohol or drug use.\n",
      "\n",
      "Family History:\n",
      "Mother with stroke at age 82. no early deaths.\n",
      "2 daughters- healthy\n",
      "\n",
      "Ultrasound [**5-30**]: IMPRESSION: 1. Dilated common bile duct with\n",
      "mild intrahepatic biliary ductal dilatation and dilatai\n"
     ]
    }
   ],
   "source": [
    "print(text[:1000])"
   ]
  },
  {
   "cell_type": "code",
   "execution_count": 17,
   "metadata": {
    "scrolled": true
   },
   "outputs": [
    {
     "data": {
      "text/plain": [
       "admission date:  01-01-2010              discharge date:   01-01-2010\n",
       "\n",
       "date of birth:  01-01-2010             sex:   f\n",
       "\n",
       "service: surgery\n",
       "\n",
       "allergies:\n",
       "hydrochlorothiazide\n",
       "\n",
       "attending:\n",
       "chief complaint:\n",
       "abdominal pain\n",
       "\n",
       "major surgical or invasive procedure:\n",
       "picc line 01-01-2010\n",
       "ercp w/ sphincterotomy 01-01-2010\n",
       "\n",
       "\n",
       "history of present illness:\n",
       "74y female with hypertension, old mi and a recent stroke affecting her\n",
       "speech, who presents with 2 days of abdominal pain.\n",
       "\n",
       "past medical history:\n",
       "1. colon cancer Diagnosed in 2010, Treated with hemicolectomy, xrt,\n",
       "chemo. last colonoscopy showed: last cea was in the 8 range\n",
       "(down from 9)\n",
       "2. lymphedema from xrt, takes a diuretic\n",
       "3. hypertension\n",
       "\n",
       "social history:\n",
       "married, former tobacco use. no alcohol or drug use.\n",
       "\n",
       "family history:\n",
       "mother with stroke at age 82. no early deaths.\n",
       "2 daughters- healthy\n",
       "\n",
       "ultrasound 01-01-2010: impression: 1. dilated common bile duct with\n",
       "mild intrahepatic biliary ductal dilatation and dilataion of the\n",
       "pancreatic duct. 2. edematous gallbladder wall.\n",
       "\n",
       "\n",
       "brief hospital course:\n",
       "ms.  was admitted on 01-01-2010. ultrasound at the time of\n",
       "admission demonstrated pancreatic duct dilitation and an\n",
       "edematous gallbladder. she was admitted to the icu.\n",
       "discharge medications:\n",
       "1. miconazole nitrate 2 % powder sig: one (1) appl topical  bid\n",
       "(2 times a day) as needed.\n",
       "2. heparin sodium (porcine) 5,000 unit/ml solution sig: one (1)\n",
       "injection tid (3 times a day).\n",
       "3. acetaminophen 160 mg/5 ml elixir sig: one (1)  po q4-6h\n",
       "(every 4 to 6 hours) as needed.\n",
       "\n",
       "discharge diagnosis:\n",
       "atrial fibrillation\n",
       "pancreatitis\n",
       "htn\n",
       "h/o aspiration respiratory distress\n",
       "\n",
       "\n",
       "discharge instructions:\n",
       "patient may shower. please call your surgeon or return to the\n",
       "emergency room if  experience fever >101.5, nausea, vomiting,\n",
       "abdominal pain, shortness of breath, abdominal pain or any\n",
       "significant  change in your medical condition. a\n",
       "\n",
       "completed by:   md  01-01-2010 @ 1404\n",
       "signed electronically by: dr.  \n",
       " on: fri 01-01-2010 8:03 am\n",
       "(end of report)"
      ]
     },
     "execution_count": 17,
     "metadata": {},
     "output_type": "execute_result"
    }
   ],
   "source": [
    "preprocessed_doc"
   ]
  },
  {
   "cell_type": "code",
   "execution_count": null,
   "metadata": {},
   "outputs": [],
   "source": []
  },
  {
   "cell_type": "markdown",
   "metadata": {},
   "source": [
    "# Sentence segmentation\n",
    "**TODO**: PyRuSH currently failing on Mac."
   ]
  },
  {
   "cell_type": "code",
   "execution_count": null,
   "metadata": {},
   "outputs": [],
   "source": []
  }
 ],
 "metadata": {
  "kernelspec": {
   "display_name": "Python 3",
   "language": "python",
   "name": "python3"
  },
  "language_info": {
   "codemirror_mode": {
    "name": "ipython",
    "version": 3
   },
   "file_extension": ".py",
   "mimetype": "text/x-python",
   "name": "python",
   "nbconvert_exporter": "python",
   "pygments_lexer": "ipython3",
   "version": "3.7.3"
  }
 },
 "nbformat": 4,
 "nbformat_minor": 2
}
