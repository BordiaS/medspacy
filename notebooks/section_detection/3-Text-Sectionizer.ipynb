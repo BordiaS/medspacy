{
 "cells": [
  {
   "cell_type": "code",
   "execution_count": 1,
   "metadata": {},
   "outputs": [],
   "source": [
    "import sys"
   ]
  },
  {
   "cell_type": "code",
   "execution_count": 2,
   "metadata": {},
   "outputs": [],
   "source": [
    "sys.path.insert(0, \"../..\")"
   ]
  },
  {
   "cell_type": "markdown",
   "metadata": {},
   "source": [
    "# TextSectionizer\n",
    "Sometimes, you may not want to process an entire document with spaCy. You may instead want to extract specific sections and then process them independently. To do this, you can use the `TextSectionizer` and process a text. Just like the `Sectionizer`, this class comes with default patterns which can be modified or added to."
   ]
  },
  {
   "cell_type": "code",
   "execution_count": 3,
   "metadata": {},
   "outputs": [],
   "source": [
    "with open(\"../discharge_summary.txt\") as f:\n",
    "    text = f.read()"
   ]
  },
  {
   "cell_type": "code",
   "execution_count": 4,
   "metadata": {},
   "outputs": [],
   "source": [
    "from medspacy.section_detection import TextSectionizer"
   ]
  },
  {
   "cell_type": "code",
   "execution_count": 5,
   "metadata": {},
   "outputs": [],
   "source": [
    "sectionizer = TextSectionizer()"
   ]
  },
  {
   "cell_type": "code",
   "execution_count": 6,
   "metadata": {},
   "outputs": [
    {
     "data": {
      "text/plain": [
       "{'addendum',\n",
       " 'allergies',\n",
       " 'chief_complaint',\n",
       " 'comments',\n",
       " 'diagnoses',\n",
       " 'family_history',\n",
       " 'history_of_present_illness',\n",
       " 'hospital_course',\n",
       " 'imaging',\n",
       " 'labs_and_studies',\n",
       " 'medications',\n",
       " 'neurological',\n",
       " 'observation_and_plan',\n",
       " 'other',\n",
       " 'past_medical_history',\n",
       " 'patient_education',\n",
       " 'patient_instructions',\n",
       " 'physical_exam',\n",
       " 'problem_list',\n",
       " 'reason_for_examination',\n",
       " 'signature',\n",
       " 'social_history'}"
      ]
     },
     "execution_count": 6,
     "metadata": {},
     "output_type": "execute_result"
    }
   ],
   "source": [
    "sectionizer.section_titles"
   ]
  },
  {
   "cell_type": "markdown",
   "metadata": {},
   "source": [
    "Unlike the `Sectionizer` patterns, the `pattern` value can only be a string, which will be interpreted as a case-insensitive regular expression. You can add to the `TextSectionizer` with the same `.add()` method:"
   ]
  },
  {
   "cell_type": "code",
   "execution_count": 7,
   "metadata": {},
   "outputs": [
    {
     "data": {
      "text/plain": [
       "[{'section_title': 'addendum', 'pattern': 'ADDENDUM:'},\n",
       " {'section_title': 'addendum', 'pattern': 'Addendum:'},\n",
       " {'section_title': 'allergies', 'pattern': 'ALLERGIC REACTIONS:'},\n",
       " {'section_title': 'allergies', 'pattern': 'ALLERGIES:'},\n",
       " {'section_title': 'chief_complaint', 'pattern': 'CC:'}]"
      ]
     },
     "execution_count": 7,
     "metadata": {},
     "output_type": "execute_result"
    }
   ],
   "source": [
    "sectionizer.patterns[:5]"
   ]
  },
  {
   "cell_type": "code",
   "execution_count": 8,
   "metadata": {},
   "outputs": [],
   "source": [
    "new_patterns = [\n",
    "    {\"section_title\": \"visit_information\", \"pattern\": \"admi(t|ssion) date:\"},\n",
    "    {\"section_title\": \"labs_and_studies\", \"pattern\": \"pertinent results:\"}\n",
    "]"
   ]
  },
  {
   "cell_type": "code",
   "execution_count": 9,
   "metadata": {},
   "outputs": [],
   "source": [
    "sectionizer.add(new_patterns)"
   ]
  },
  {
   "cell_type": "markdown",
   "metadata": {},
   "source": [
    "# Using Text Sectionizer\n",
    "We can get the split up document by calling `sectionizer(text)`. This returns a list of 3-tuples which contain:\n",
    "- `section_title`: The string of the section title\n",
    "- `section_header`: The span of text matched by the pattern\n",
    "- `section_text`: The span of text contained in the entire section"
   ]
  },
  {
   "cell_type": "code",
   "execution_count": 10,
   "metadata": {},
   "outputs": [],
   "source": [
    "sections = sectionizer(text)"
   ]
  },
  {
   "cell_type": "code",
   "execution_count": 11,
   "metadata": {},
   "outputs": [
    {
     "name": "stdout",
     "output_type": "stream",
     "text": [
      "('other', 'Service:', 'Service: SURGERY\\n\\n')\n"
     ]
    }
   ],
   "source": [
    "print(sections[1])"
   ]
  },
  {
   "cell_type": "code",
   "execution_count": 12,
   "metadata": {
    "scrolled": true
   },
   "outputs": [
    {
     "name": "stdout",
     "output_type": "stream",
     "text": [
      "visit_information\n",
      "Admission Date:\n",
      "\n",
      "Admission Date:  [**2573-5-30**]              Discharge Date:   [**2573-7-1**]\n",
      "\n",
      "Date of Birth:  [**2498-8-19**]             Sex:   F\n",
      "\n",
      "\n",
      "---------------\n",
      "other\n",
      "Service:\n",
      "\n",
      "Service: SURGERY\n",
      "\n",
      "\n",
      "---------------\n",
      "allergies\n",
      "Allergies:\n",
      "\n",
      "Allergies:\n",
      "Hydrochlorothiazide\n",
      "\n",
      "Attending:[**First Name3 (LF) 1893**]\n",
      "\n",
      "---------------\n"
     ]
    }
   ],
   "source": [
    "for (section_title, section_header, section_text) in sections[:3]:\n",
    "    print(section_title)\n",
    "    print(section_header)\n",
    "    print()\n",
    "    print(section_text)\n",
    "    print(\"---\"*5)"
   ]
  },
  {
   "cell_type": "markdown",
   "metadata": {},
   "source": [
    "You can unpack these tuples by using the Python `zip(*tuples)` function:"
   ]
  },
  {
   "cell_type": "code",
   "execution_count": 13,
   "metadata": {},
   "outputs": [],
   "source": [
    "section_titles, section_headers, section_texts = zip(*sections)"
   ]
  },
  {
   "cell_type": "code",
   "execution_count": 14,
   "metadata": {},
   "outputs": [
    {
     "data": {
      "text/plain": [
       "('visit_information',\n",
       " 'other',\n",
       " 'allergies',\n",
       " 'chief_complaint',\n",
       " 'history_of_present_illness',\n",
       " 'past_medical_history',\n",
       " 'social_history',\n",
       " 'family_history',\n",
       " 'hospital_course',\n",
       " 'medications',\n",
       " 'observation_and_plan',\n",
       " 'patient_instructions',\n",
       " 'signature')"
      ]
     },
     "execution_count": 14,
     "metadata": {},
     "output_type": "execute_result"
    }
   ],
   "source": [
    "section_titles"
   ]
  },
  {
   "cell_type": "code",
   "execution_count": 15,
   "metadata": {},
   "outputs": [
    {
     "data": {
      "text/plain": [
       "('Admission Date:',\n",
       " 'Service:',\n",
       " 'Allergies:',\n",
       " 'Chief Complaint:',\n",
       " 'History of Present Illness:',\n",
       " 'Past Medical History:',\n",
       " 'Social History:',\n",
       " 'Family History:',\n",
       " 'Brief Hospital Course:',\n",
       " 'Discharge Medications:',\n",
       " 'Discharge Diagnosis:',\n",
       " 'Discharge Instructions:',\n",
       " 'Signed electronically by:')"
      ]
     },
     "execution_count": 15,
     "metadata": {},
     "output_type": "execute_result"
    }
   ],
   "source": [
    "section_headers"
   ]
  },
  {
   "cell_type": "code",
   "execution_count": 16,
   "metadata": {},
   "outputs": [
    {
     "data": {
      "text/plain": [
       "('Admission Date:  [**2573-5-30**]              Discharge Date:   [**2573-7-1**]\\n\\nDate of Birth:  [**2498-8-19**]             Sex:   F\\n\\n',\n",
       " 'Service: SURGERY\\n\\n',\n",
       " 'Allergies:\\nHydrochlorothiazide\\n\\nAttending:[**First Name3 (LF) 1893**]\\n',\n",
       " 'Chief Complaint:\\nAbdominal pain\\n\\nMajor Surgical or Invasive Procedure:\\nPICC line [**6-25**]\\nERCP w/ sphincterotomy [**5-31**]\\n\\n\\n',\n",
       " 'History of Present Illness:\\n74y female with type 2 dm and a recent stroke affecting her\\nspeech, who presents with 2 days of abdominal pain. Imaging shows no evidence of metastasis.\\n\\n',\n",
       " \"Past Medical History:\\n1. Colon cancer dx'd in [**2554**], tx'd with hemicolectomy, XRT,\\nchemo. Last colonoscopy showed: Last CEA was in the 8 range\\n(down from 9)\\n2. Type II Diabetes Mellitus\\n3. Hypertension\\n\\n\",\n",
       " 'Social History:\\nMarried, former tobacco use. No alcohol or drug use.\\n\\n',\n",
       " 'Family History:\\nMother with stroke at age 82. no early deaths.\\n2 daughters- healthy\\n\\n\\n',\n",
       " 'Brief Hospital Course:\\nMs. [**Known patient lastname 2004**] was admitted on [**2573-5-30**]. Ultrasound at the time of\\nadmission demonstrated pancreatic duct dilitation and an\\nedematous gallbladder. She was admitted to the ICU.\\n',\n",
       " 'Discharge Medications:\\n1. Miconazole Nitrate 2 % Powder Sig: One (1) Appl Topical  BID\\n(2 times a day) as needed.\\n2. Heparin Sodium (Porcine) 5,000 unit/mL Solution Sig: One (1)\\nInjection TID (3 times a day).\\n3. Acetaminophen 160 mg/5 mL Elixir Sig: One (1)  PO Q4-6H\\n(every 4 to 6 hours) as needed.\\n\\n',\n",
       " 'Discharge Diagnosis:\\nType 2 DM\\nPancreatitis\\nHTN\\nh/o aspiration respiratory distress\\n\\n\\n',\n",
       " 'Discharge Instructions:\\nPatient may shower. Please call your surgeon or return to the\\nemergency room if [**Doctor First Name **] experience fever >101.5, nausea, vomiting,\\nabdominal pain, shortness of breath, abdominal pain or any\\nsignificant  change in your medical condition. A\\n\\nCompleted by: [**First Name11 (Name Pattern1) 2010**] [**Last Name (NamePattern1) 2011**] MD [**MD Number 2012**] [**2573-7-1**] @ 1404\\n',\n",
       " 'Signed electronically by: DR. [**First Name8 (NamePattern2) **] [**Last Name (NamePattern1) **]\\n on: FRI [**2573-7-2**] 8:03 AM\\n(End of Report)')"
      ]
     },
     "execution_count": 16,
     "metadata": {},
     "output_type": "execute_result"
    }
   ],
   "source": [
    "section_texts"
   ]
  },
  {
   "cell_type": "code",
   "execution_count": null,
   "metadata": {},
   "outputs": [],
   "source": []
  },
  {
   "cell_type": "markdown",
   "metadata": {},
   "source": [
    "## Limiting sections\n",
    "Once you identify the sections in a document, you can then exclude any other sections which aren't relevant. You can then process each document separately or combine into a smaller, more selective document."
   ]
  },
  {
   "cell_type": "code",
   "execution_count": 17,
   "metadata": {},
   "outputs": [],
   "source": [
    "relevant_section_titles = [\"present_illness\", \"medication\"]\n",
    "relevant_sections = [section for (section_title, section_header, section) in sections \n",
    "                   if section_title in relevant_section_titles]"
   ]
  },
  {
   "cell_type": "code",
   "execution_count": 18,
   "metadata": {},
   "outputs": [
    {
     "data": {
      "text/plain": [
       "['present_illness', 'medication']"
      ]
     },
     "execution_count": 18,
     "metadata": {},
     "output_type": "execute_result"
    }
   ],
   "source": [
    "relevant_section_titles"
   ]
  },
  {
   "cell_type": "code",
   "execution_count": 19,
   "metadata": {},
   "outputs": [],
   "source": [
    "relevant_text = \"\\n\\n\".join(relevant_sections)"
   ]
  },
  {
   "cell_type": "code",
   "execution_count": 20,
   "metadata": {},
   "outputs": [],
   "source": [
    "import spacy\n",
    "from medspacy.visualization import visualize_ent "
   ]
  },
  {
   "cell_type": "code",
   "execution_count": 21,
   "metadata": {},
   "outputs": [
    {
     "name": "stderr",
     "output_type": "stream",
     "text": [
      "/Users/alecchapman/opt/anaconda3/envs/medspacy-37/lib/python3.7/site-packages/spacy/util.py:275: UserWarning: [W031] Model 'en_info_3700_i2b2_2012' (0.1.0) requires spaCy v2.2 and is incompatible with the current spaCy version (2.3.2). This may lead to unexpected results or runtime errors. To resolve this, download a newer compatible model or retrain your custom model with the current spaCy version. For more details and available updates, run: python -m spacy validate\n",
      "  warnings.warn(warn_msg)\n"
     ]
    }
   ],
   "source": [
    "nlp = spacy.load(\"en_info_3700_i2b2_2012\")"
   ]
  },
  {
   "cell_type": "code",
   "execution_count": 22,
   "metadata": {},
   "outputs": [
    {
     "data": {
      "text/plain": [
       "<spacy.lang.en.English at 0x113672fd0>"
      ]
     },
     "execution_count": 22,
     "metadata": {},
     "output_type": "execute_result"
    }
   ],
   "source": [
    "nlp"
   ]
  },
  {
   "cell_type": "code",
   "execution_count": 23,
   "metadata": {},
   "outputs": [],
   "source": [
    "doc = nlp(relevant_text)"
   ]
  },
  {
   "cell_type": "code",
   "execution_count": 24,
   "metadata": {},
   "outputs": [
    {
     "data": {
      "text/html": [
       "<span class=\"tex2jax_ignore\"><div class=\"entities\" style=\"line-height: 2.5; direction: ltr\"></div></span>"
      ],
      "text/plain": [
       "<IPython.core.display.HTML object>"
      ]
     },
     "metadata": {},
     "output_type": "display_data"
    }
   ],
   "source": [
    "visualize_ent(doc)"
   ]
  },
  {
   "cell_type": "code",
   "execution_count": null,
   "metadata": {},
   "outputs": [],
   "source": []
  }
 ],
 "metadata": {
  "kernelspec": {
   "display_name": "Python 3",
   "language": "python",
   "name": "python3"
  },
  "language_info": {
   "codemirror_mode": {
    "name": "ipython",
    "version": 3
   },
   "file_extension": ".py",
   "mimetype": "text/x-python",
   "name": "python",
   "nbconvert_exporter": "python",
   "pygments_lexer": "ipython3",
   "version": "3.7.9"
  }
 },
 "nbformat": 4,
 "nbformat_minor": 4
}
